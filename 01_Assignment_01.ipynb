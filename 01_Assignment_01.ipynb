{
  "cells": [
    {
      "cell_type": "markdown",
      "metadata": {
        "id": "view-in-github",
        "colab_type": "text"
      },
      "source": [
        "<a href=\"https://colab.research.google.com/github/prudhvi-netizen/DataScienceCourse/blob/Advance-Python-Assignment/01_Assignment_01.ipynb\" target=\"_parent\"><img src=\"https://colab.research.google.com/assets/colab-badge.svg\" alt=\"Open In Colab\"/></a>"
      ]
    },
    {
      "cell_type": "markdown",
      "id": "f539b01e",
      "metadata": {
        "id": "f539b01e"
      },
      "source": [
        "# Assignment 01 Solutions"
      ]
    },
    {
      "cell_type": "markdown",
      "id": "942401c5",
      "metadata": {
        "id": "942401c5"
      },
      "source": [
        "#### Q1. What is the purpose of Python's OOP?\n",
        "**Ans:Object-oriented programming (OOP) is a programming paradigm that uses objects and classes to structure programs. In Python, OOP is used to implement real-world entities such as inheritance, polymorphism, and encapsulation. The main goal of OOP is to bundle properties and behaviors into individual objects.\n",
        "\n",
        "The advantages of using OOP in Python include:\n",
        "\n",
        "Modularity: OOP enables the creation of smaller, more manageable parts of a program that can be reused in other programs and easily modified without affecting the rest of the program.\n",
        "\n",
        "Encapsulation: OOP allows for better security, easier maintenance, and debugging by keeping an object's internal state hidden from the outside world.\n",
        "\n",
        "Abstraction: OOP makes code more intuitive and easier to use by hiding implementation details and only showing the necessary information to the user.\n",
        "\n",
        "Inheritance: OOP promotes code reuse and saves time and effort in the development process by allowing for the creation of new classes that are built on existing classes.\n",
        "\n",
        "Polymorphism: OOP makes code more flexible and easier to maintain by allowing objects to take on multiple forms, which can be achieved through method overriding and method overloading in Python.\n"
      ]
    },
    {
      "cell_type": "markdown",
      "id": "7cfcf3e9",
      "metadata": {
        "id": "7cfcf3e9"
      },
      "source": [
        "#### Q2. Where does an inheritance search look for an attribute?\n",
        "**Ans:** Python uses the method resolution order (MRO) to determine where to look for an attribute during an inheritance search. The inheritance search first looks for the attribute in the instance dictionary of the object, then in the class dictionary of the object, and finally in the dictionaries of the parent classes, in the order specified by the MRO. If the attribute is still not found after searching all of these places, then a `AttributeError` is raised."
      ]
    },
    {
      "cell_type": "markdown",
      "id": "096d7b0b",
      "metadata": {
        "id": "096d7b0b"
      },
      "source": [
        "#### Q3. How do you distinguish between a class object and an instance object?\n",
        "**Ans:** Here are some ways to distinguish between a class object and an instance object:\n",
        "\n",
        "Creation: A class object is created when the class statement is executed, while an instance object is created when the __init__ method of a class is called.\n",
        "\n",
        "Access: Class objects are accessed using the name of the class, while instance objects are accessed using the name of the instance.\n",
        "\n",
        "Attributes: Class objects can have class-level attributes and methods that are shared by all instances of the class, while instance objects have instance-level attributes and methods that are specific to that particular instance.\n",
        "\n",
        "Relationship: A class object can be thought of as a factory that produces instances of the class, while an instance object can be thought of as a product of that factory."
      ]
    },
    {
      "cell_type": "markdown",
      "id": "fd8cc6bc",
      "metadata": {
        "id": "fd8cc6bc"
      },
      "source": [
        "#### Q4. What makes the first argument in a class’s method function special?\n",
        "**Ans:** Python Classes usually have three types of methods which are:\n",
        "- Instance Methods (object level methods)\n",
        "- Class Methods (class level methods)\n",
        "- Static Methods (general utility methods)\n",
        "- **`self`** is the first argument for instance methods. which refers to the object itself\n",
        "- **`cls`** is the first argument for class methods which refers to the class itself"
      ]
    },
    {
      "cell_type": "markdown",
      "id": "94de0426",
      "metadata": {
        "id": "94de0426"
      },
      "source": [
        "#### Q5. What is the purpose of the __init__ method?\n",
        "**Ans:** **`__init__`** is a reseved method in python classes. It serves the role of a **constructor** in object oriented terminology. This method is called when an object is created from a class and it allows the class to initialize the attributes of the class"
      ]
    },
    {
      "cell_type": "markdown",
      "id": "3e47943f",
      "metadata": {
        "id": "3e47943f"
      },
      "source": [
        "#### Q6. What is the process for creating a class instance?\n",
        "**Ans:** To create a class instance, we need to call the class by its name and pass the arguments to the class, which its **`init`** method accepts.\n",
        "\n",
        "**Example:** **`my_name = my_class(\"Mano\",\"vishnu\")`** Here `my_name` is an instance of class `my_class` with attributes \"Mano\" and \"Vishnu\"."
      ]
    },
    {
      "cell_type": "markdown",
      "id": "8ddf33a9",
      "metadata": {
        "id": "8ddf33a9"
      },
      "source": [
        "#### Q7. What is the process for creating a class?\n",
        "**Ans:** **`class`** keyword is used to created a class in python. The syntax to create a class in python is **`class <classname>:`**\n",
        "\n",
        "**Example:** **`class Car:`**  ➞  this creates a class called Car"
      ]
    },
    {
      "cell_type": "markdown",
      "id": "b58c55d6",
      "metadata": {
        "id": "b58c55d6"
      },
      "source": [
        "#### Q8. How would you define the superclasses of a class?\n",
        "**Ans** Superclass/Parent class is given as a arugment to the child class\n",
        "\n",
        "**Example:** `class Employee(Person):` Here child class `Employee` inherits attributes and methofs from Superclass/Parent `Person`"
      ]
    }
  ],
  "metadata": {
    "kernelspec": {
      "display_name": "Python 3",
      "language": "python",
      "name": "python3"
    },
    "language_info": {
      "codemirror_mode": {
        "name": "ipython",
        "version": 3
      },
      "file_extension": ".py",
      "mimetype": "text/x-python",
      "name": "python",
      "nbconvert_exporter": "python",
      "pygments_lexer": "ipython3",
      "version": "3.8.8"
    },
    "colab": {
      "provenance": [],
      "include_colab_link": true
    }
  },
  "nbformat": 4,
  "nbformat_minor": 5
}