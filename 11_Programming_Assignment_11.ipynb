{
  "cells": [
    {
      "cell_type": "markdown",
      "metadata": {
        "id": "view-in-github",
        "colab_type": "text"
      },
      "source": [
        "<a href=\"https://colab.research.google.com/github/prudhvi-netizen/DataScienceCourse/blob/Python-Programming-Assignment/11_Programming_Assignment_11.ipynb\" target=\"_parent\"><img src=\"https://colab.research.google.com/assets/colab-badge.svg\" alt=\"Open In Colab\"/></a>"
      ]
    },
    {
      "cell_type": "markdown",
      "id": "e9523fbb",
      "metadata": {
        "id": "e9523fbb"
      },
      "source": [
        "# Assignment 11 Solutions"
      ]
    },
    {
      "cell_type": "markdown",
      "id": "267b6b8f",
      "metadata": {
        "id": "267b6b8f"
      },
      "source": [
        "#### 1. Write a Python program to find words which are greater than given length k ?"
      ]
    },
    {
      "cell_type": "code",
      "execution_count": 1,
      "id": "d3ec10f6",
      "metadata": {
        "colab": {
          "base_uri": "https://localhost:8080/"
        },
        "id": "d3ec10f6",
        "outputId": "0b8217a2-7278-40e3-ffae-a92a691313b7"
      },
      "outputs": [
        {
          "output_type": "stream",
          "name": "stdout",
          "text": [
            "Enter the string: KollaPrudhvi\n",
            "Enter the length of the string: 4\n",
            "KollaPrudhvi\n"
          ]
        }
      ],
      "source": [
        "def checkLengthOfString():\n",
        "    in_string = input(\"Enter the string: \")\n",
        "    in_length = int(input('Enter the length of the string: '))\n",
        "    out_string = []\n",
        "    for string in in_string.split(\" \"):\n",
        "        if len(string) > in_length:\n",
        "            out_string.append(string)\n",
        "    print(','.join(out_string))\n",
        "\n",
        "checkLengthOfString()"
      ]
    },
    {
      "cell_type": "markdown",
      "id": "3711485d",
      "metadata": {
        "id": "3711485d"
      },
      "source": [
        "#### 2. Write a Python program for removing i-th character from a string ?"
      ]
    },
    {
      "cell_type": "code",
      "execution_count": 2,
      "id": "f7fccd01",
      "metadata": {
        "colab": {
          "base_uri": "https://localhost:8080/"
        },
        "id": "f7fccd01",
        "outputId": "ced1b842-c087-4e9d-c25e-a975373931e7"
      },
      "outputs": [
        {
          "output_type": "stream",
          "name": "stdout",
          "text": [
            "Enter the String: Prudhvi\n",
            "Enter the ith Character: 4\n",
            "Prudvi\n"
          ]
        }
      ],
      "source": [
        "def removeCharacter():\n",
        "    in_string = input(\"Enter the String: \")\n",
        "    in_char_num = int(input(\"Enter the ith Character: \"))\n",
        "    out_string = ''\n",
        "    for ele in range(len(in_string)):\n",
        "        if ele != in_char_num:\n",
        "            out_string = out_string + in_string[ele]\n",
        "    print(out_string)\n",
        "    \n",
        "removeCharacter()"
      ]
    },
    {
      "cell_type": "markdown",
      "id": "845ba790",
      "metadata": {
        "id": "845ba790"
      },
      "source": [
        "#### 3. Write a Python program to split and join a string ?"
      ]
    },
    {
      "cell_type": "code",
      "execution_count": 3,
      "id": "fd82df54",
      "metadata": {
        "colab": {
          "base_uri": "https://localhost:8080/"
        },
        "id": "fd82df54",
        "outputId": "1f0d114b-7106-4f93-e751-42be37fc979e"
      },
      "outputs": [
        {
          "output_type": "stream",
          "name": "stdout",
          "text": [
            "Enter the string: Prudhvi\n",
            "Split String: ['Prudhvi']\n",
            "Join String: Prudhvi\n"
          ]
        }
      ],
      "source": [
        "def splitJoinString():\n",
        "    in_string = input('Enter the string: ')\n",
        "    print(f\"Split String: {in_string.split(' ')}\")\n",
        "    print(f\"Join String: {' '.join(in_string.split(' '))}\")\n",
        "\n",
        "splitJoinString()"
      ]
    },
    {
      "cell_type": "markdown",
      "id": "ee642cdf",
      "metadata": {
        "id": "ee642cdf"
      },
      "source": [
        "#### 4. Write a Python to check if a given string is binary string or not ?"
      ]
    },
    {
      "cell_type": "code",
      "execution_count": 4,
      "id": "6d04b29e",
      "metadata": {
        "colab": {
          "base_uri": "https://localhost:8080/"
        },
        "id": "6d04b29e",
        "outputId": "6e588d53-5651-49ef-e113-8402822d0773"
      },
      "outputs": [
        {
          "output_type": "stream",
          "name": "stdout",
          "text": [
            "Enter the string: Prudhvi\n",
            "Prudhvi is not a binart string\n",
            "Enter the string: 12345\n",
            "12345 is not a binart string\n"
          ]
        }
      ],
      "source": [
        "def checkBinary():\n",
        "    in_string = input('Enter the string: ')\n",
        "    stun = 0\n",
        "    for ele in in_string:\n",
        "        if ele in ['0','1']:\n",
        "            stun = 1\n",
        "            continue\n",
        "        else:\n",
        "            stun = 0\n",
        "            break\n",
        "    statement = 'is a binary string' if stun == 1 else 'is not a binart string' \n",
        "    print(f'{in_string} {statement}')\n",
        "\n",
        "checkBinary()\n",
        "checkBinary()"
      ]
    },
    {
      "cell_type": "markdown",
      "id": "d22e2622",
      "metadata": {
        "id": "d22e2622"
      },
      "source": [
        "#### 5. Write a Python program to find uncommon words from two Strings ?"
      ]
    },
    {
      "cell_type": "code",
      "execution_count": 5,
      "id": "be223e06",
      "metadata": {
        "colab": {
          "base_uri": "https://localhost:8080/"
        },
        "id": "be223e06",
        "outputId": "ff100b32-794a-498e-bb63-c06877476542"
      },
      "outputs": [
        {
          "output_type": "stream",
          "name": "stdout",
          "text": [
            "Enter the String 1: 12345\n",
            "Enter the String 2: 345\n",
            "{'345', '12345'}\n"
          ]
        }
      ],
      "source": [
        "def unCommonWords():\n",
        "    in_string_1 = set(input(\"Enter the String 1: \").split(' '))\n",
        "    in_string_2 = set(input(\"Enter the String 2: \").split(' '))\n",
        "    out_string = (in_string_1.union(in_string_2)).difference(in_string_1.intersection(in_string_2))\n",
        "    print(out_string)\n",
        "\n",
        "unCommonWords()"
      ]
    },
    {
      "cell_type": "markdown",
      "id": "a077bda5",
      "metadata": {
        "id": "a077bda5"
      },
      "source": [
        "#### 6. Write a Python to find all duplicate characters in string ?"
      ]
    },
    {
      "cell_type": "code",
      "execution_count": 6,
      "id": "6116a494",
      "metadata": {
        "colab": {
          "base_uri": "https://localhost:8080/"
        },
        "id": "6116a494",
        "outputId": "a1c6dda2-1ec0-4a33-f91c-f2b29b499b1b"
      },
      "outputs": [
        {
          "output_type": "stream",
          "name": "stdout",
          "text": [
            "Enter the string: 12345\n",
            "Duplicate characters are: []\n"
          ]
        }
      ],
      "source": [
        "def duplicateChars():\n",
        "    in_string = input('Enter the string: ')\n",
        "    non_duplicate_list = []\n",
        "    duplicate_list = []\n",
        "    for ele in in_string:\n",
        "        if ele not in non_duplicate_list:\n",
        "            non_duplicate_list.append(ele)\n",
        "        else:\n",
        "            duplicate_list.append(ele)\n",
        "    print(f'Duplicate characters are: {list(set(duplicate_list))}')\n",
        "        \n",
        "duplicateChars()"
      ]
    },
    {
      "cell_type": "markdown",
      "id": "e14912b1",
      "metadata": {
        "id": "e14912b1"
      },
      "source": [
        "#### 7. Write a Python Program to check if a string contains any special character?"
      ]
    },
    {
      "cell_type": "code",
      "execution_count": null,
      "id": "b51b221d",
      "metadata": {
        "colab": {
          "base_uri": "https://localhost:8080/"
        },
        "id": "b51b221d",
        "outputId": "030e82fd-81e5-48fa-c581-0b53679a7371"
      },
      "outputs": [
        {
          "output_type": "stream",
          "name": "stdout",
          "text": [
            "Enter the string: Prudhvo\n",
            "There are 0 Speical Characters in Prudhvo which are []\n"
          ]
        }
      ],
      "source": [
        "def checkSpecialChar():\n",
        "    spl_chars = '[@_!#$%^&*()<>?/\\|}{~:]'\n",
        "    in_num = input('Enter the string: ')\n",
        "    count = 0\n",
        "    char_list = []\n",
        "    for ele in in_num:\n",
        "        if ele in spl_chars:\n",
        "            char_list.append(ele)\n",
        "            count = count+1\n",
        "    print(f'There are {count} Speical Characters in {in_num} which are {char_list}')\n",
        "            \n",
        "        \n",
        "checkSpecialChar()\n",
        "checkSpecialChar()"
      ]
    }
  ],
  "metadata": {
    "kernelspec": {
      "display_name": "Python 3",
      "language": "python",
      "name": "python3"
    },
    "language_info": {
      "codemirror_mode": {
        "name": "ipython",
        "version": 3
      },
      "file_extension": ".py",
      "mimetype": "text/x-python",
      "name": "python",
      "nbconvert_exporter": "python",
      "pygments_lexer": "ipython3",
      "version": "3.8.8"
    },
    "colab": {
      "provenance": [],
      "include_colab_link": true
    }
  },
  "nbformat": 4,
  "nbformat_minor": 5
}