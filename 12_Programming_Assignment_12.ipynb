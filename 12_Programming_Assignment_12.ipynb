{
  "cells": [
    {
      "cell_type": "markdown",
      "metadata": {
        "id": "view-in-github",
        "colab_type": "text"
      },
      "source": [
        "<a href=\"https://colab.research.google.com/github/prudhvi-netizen/DataScienceCourse/blob/Python-Programming-Assignment/12_Programming_Assignment_12.ipynb\" target=\"_parent\"><img src=\"https://colab.research.google.com/assets/colab-badge.svg\" alt=\"Open In Colab\"/></a>"
      ]
    },
    {
      "cell_type": "markdown",
      "id": "b1d78136",
      "metadata": {
        "id": "b1d78136"
      },
      "source": [
        "# Assignment 12 Solutions"
      ]
    },
    {
      "cell_type": "markdown",
      "id": "47588382",
      "metadata": {
        "id": "47588382"
      },
      "source": [
        "#### 1.Write a Python program to Extract Unique values dictionary values?"
      ]
    },
    {
      "cell_type": "code",
      "execution_count": 1,
      "id": "8cfece02",
      "metadata": {
        "colab": {
          "base_uri": "https://localhost:8080/"
        },
        "id": "8cfece02",
        "outputId": "7e08fa22-2ed7-4088-c600-1c0ced0ea263"
      },
      "outputs": [
        {
          "output_type": "stream",
          "name": "stdout",
          "text": [
            "dict_values(['Prudhvi', 'Sanjana', 'Vineeth', 'Surya', 'piyush', 'rohith', 'anikith'])\n",
            "Unique Values: ['anikith', 'Vineeth', 'Surya', 'Prudhvi', 'piyush', 'rohith', 'Sanjana']\n"
          ]
        }
      ],
      "source": [
        "in_dict = {1:'Prudhvi',2:'Sanjana',3:'Vineeth',4:'Surya',5:'piyush',6:'rohith',7:'anikith'}\n",
        "print(in_dict.values())\n",
        "print(f'Unique Values: {list(set(in_dict.values()))}')"
      ]
    },
    {
      "cell_type": "markdown",
      "id": "3cfcbbc9",
      "metadata": {
        "id": "3cfcbbc9"
      },
      "source": [
        "#### 2.Write a Python program to find the sum of all items in a dictionary?"
      ]
    },
    {
      "cell_type": "code",
      "execution_count": 2,
      "id": "33738c60",
      "metadata": {
        "colab": {
          "base_uri": "https://localhost:8080/"
        },
        "id": "33738c60",
        "outputId": "2e0cb08d-a529-4c28-ca02-f2afc5c201fd"
      },
      "outputs": [
        {
          "output_type": "stream",
          "name": "stdout",
          "text": [
            "Sum of All items:  490\n"
          ]
        }
      ],
      "source": [
        "in_dict = {'jackfruit':100,'Mango':120,'Banana':30,'Guava':40,'PineApple':200}\n",
        "print('Sum of All items: ',sum(in_dict.values()))"
      ]
    },
    {
      "cell_type": "markdown",
      "id": "5e26e96b",
      "metadata": {
        "id": "5e26e96b"
      },
      "source": [
        "#### 3.Write a Python program to Merging two Dictionaries?"
      ]
    },
    {
      "cell_type": "code",
      "execution_count": 3,
      "id": "059056dd",
      "metadata": {
        "colab": {
          "base_uri": "https://localhost:8080/"
        },
        "id": "059056dd",
        "outputId": "e8966e46-a53c-433a-fdf1-7c4ec97a2a8a"
      },
      "outputs": [
        {
          "output_type": "stream",
          "name": "stdout",
          "text": [
            "{'cousre_name': 'Ineuron', 'course_instructors': ['Sudhanshu Kumar', 'Krish Naik', 'Physicswala']}\n"
          ]
        }
      ],
      "source": [
        "course_details = {\n",
        "    'cousre_name':'Ineuron'\n",
        "}\n",
        "instructors = {\n",
        "    'course_instructors':['Sudhanshu Kumar','Krish Naik','Physicswala']\n",
        "}\n",
        "course_details.update(instructors)\n",
        "print(course_details)"
      ]
    },
    {
      "cell_type": "markdown",
      "id": "ea32cefe",
      "metadata": {
        "id": "ea32cefe"
      },
      "source": [
        "#### 4.Write a Python program to convert key-values list to flat dictionary?"
      ]
    },
    {
      "cell_type": "code",
      "execution_count": 4,
      "id": "55139b2d",
      "metadata": {
        "colab": {
          "base_uri": "https://localhost:8080/"
        },
        "id": "55139b2d",
        "outputId": "2a32a488-0694-4ec6-8d41-048d467461cd"
      },
      "outputs": [
        {
          "output_type": "stream",
          "name": "stdout",
          "text": [
            "{'A': 10, 'B': 20, 'C': 30, 'D': 40, 'E': 50, 'F': 60, 'G': 70, 'H': 80, 'I': 90, 'J': 100}\n"
          ]
        }
      ],
      "source": [
        "in_list = [('A',10),('B',20),('C',30),('D',40),('E',50),('F',60),('G',70),('H',80),('I',90),('J',100)]\n",
        "\n",
        "# Method #1\n",
        "dict(in_list)\n",
        "\n",
        "# Method #2\n",
        "out_dict = {}\n",
        "for ele in in_list:\n",
        "    out_dict[ele[0]] = ele[1]\n",
        "print(out_dict)"
      ]
    },
    {
      "cell_type": "markdown",
      "id": "e945b1cf",
      "metadata": {
        "id": "e945b1cf"
      },
      "source": [
        "#### 5.Write a Python program to insertion at the beginning in OrderedDict?"
      ]
    },
    {
      "cell_type": "code",
      "execution_count": 5,
      "id": "b28845f5",
      "metadata": {
        "colab": {
          "base_uri": "https://localhost:8080/"
        },
        "id": "b28845f5",
        "outputId": "125cd66b-d67f-405c-a8a9-50ea7d37b406"
      },
      "outputs": [
        {
          "output_type": "stream",
          "name": "stdout",
          "text": [
            "dict_one OrderedDict([('Apple', 'Iphone'), ('Microsoft', 'Chatgpt'), ('Google', 'BRAD')])\n",
            "dict_one OrderedDict([('Apple', 'Iphone'), ('Microsoft', 'Chatgpt'), ('Google', 'BRAD'), ('Tesla', 'SpaceX')])\n",
            "dict_one OrderedDict([('Tesla', 'SpaceX'), ('Apple', 'Iphone'), ('Microsoft', 'Chatgpt'), ('Google', 'BRAD')])\n"
          ]
        }
      ],
      "source": [
        "from collections import OrderedDict\n",
        "dict_one = OrderedDict({'Apple':'Iphone','Microsoft':'Chatgpt','Google':'BRAD'})\n",
        "print('dict_one',dict_one)\n",
        "dict_two = {'Tesla':'SpaceX'}\n",
        "dict_one.update(dict_two)\n",
        "print('dict_one',dict_one)\n",
        "dict_one.move_to_end('Tesla',last=False)\n",
        "print('dict_one',dict_one)"
      ]
    },
    {
      "cell_type": "markdown",
      "id": "a67da729",
      "metadata": {
        "id": "a67da729"
      },
      "source": [
        "#### 6.Write a Python program to check order of character in string using OrderedDict()?"
      ]
    },
    {
      "cell_type": "code",
      "execution_count": 6,
      "id": "cc023a52",
      "metadata": {
        "colab": {
          "base_uri": "https://localhost:8080/"
        },
        "id": "cc023a52",
        "outputId": "a971ca4e-3672-4f51-9986-e237c48bc10d"
      },
      "outputs": [
        {
          "output_type": "stream",
          "name": "stdout",
          "text": [
            "{'a': 1000, 'f': 200, 'd': 300, 'c': 400, 'b': 500, 'e': 600}\n",
            "OrderedDict([('a', 1000), ('b', 500), ('c', 400), ('d', 300), ('e', 600), ('f', 200)])\n"
          ]
        }
      ],
      "source": [
        "from collections import OrderedDict\n",
        "\n",
        "initial_list = {'a': 1000, 'f': 200, 'd': 300, 'c': 400, 'b': 500, 'e': 600}\n",
        "print(initial_list)\n",
        "\n",
        "final_list = OrderedDict(dict(sorted(initial_list.items())))\n",
        "print(final_list)"
      ]
    },
    {
      "cell_type": "markdown",
      "id": "00e77a00",
      "metadata": {
        "id": "00e77a00"
      },
      "source": [
        "#### 7.Write a Python program to sort Python Dictionaries by Key or Value?"
      ]
    },
    {
      "cell_type": "code",
      "execution_count": 7,
      "id": "799ba84a",
      "metadata": {
        "colab": {
          "base_uri": "https://localhost:8080/"
        },
        "id": "799ba84a",
        "outputId": "428d0cfc-8b2f-4532-8242-03b495ed70a7"
      },
      "outputs": [
        {
          "output_type": "stream",
          "name": "stdout",
          "text": [
            "{'Banana': 6120, 'Grape': 13, 'Mango': 1200, 'PineApple': 1222}\n",
            "{'Grape': 13, 'Mango': 1200, 'PineApple': 1222, 'Banana': 6120}\n"
          ]
        }
      ],
      "source": [
        "d_items = {'Mango':1200,'PineApple':1222,'Banana':6120,'Grape':13}\n",
        "\n",
        "def sort_dict(in_dict,sort_type):\n",
        "    if sort_type == 'key':\n",
        "        print(dict(sorted(in_dict.items(), key=lambda x:x[0], reverse=False)))\n",
        "    else:\n",
        "        print(dict(sorted(in_dict.items(), key=lambda x:x[1], reverse=False)))\n",
        "        \n",
        "sort_dict(d_items,'key')        \n",
        "sort_dict(d_items,'value')"
      ]
    }
  ],
  "metadata": {
    "kernelspec": {
      "display_name": "Python 3 (ipykernel)",
      "language": "python",
      "name": "python3"
    },
    "language_info": {
      "codemirror_mode": {
        "name": "ipython",
        "version": 3
      },
      "file_extension": ".py",
      "mimetype": "text/x-python",
      "name": "python",
      "nbconvert_exporter": "python",
      "pygments_lexer": "ipython3",
      "version": "3.8.8"
    },
    "colab": {
      "provenance": [],
      "include_colab_link": true
    }
  },
  "nbformat": 4,
  "nbformat_minor": 5
}