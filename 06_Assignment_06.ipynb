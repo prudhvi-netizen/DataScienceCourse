{
  "cells": [
    {
      "cell_type": "markdown",
      "metadata": {
        "id": "view-in-github",
        "colab_type": "text"
      },
      "source": [
        "<a href=\"https://colab.research.google.com/github/prudhvi-netizen/DataScienceCourse/blob/Advance-Python-Assignment/06_Assignment_06.ipynb\" target=\"_parent\"><img src=\"https://colab.research.google.com/assets/colab-badge.svg\" alt=\"Open In Colab\"/></a>"
      ]
    },
    {
      "cell_type": "markdown",
      "id": "cdb59e56",
      "metadata": {
        "id": "cdb59e56"
      },
      "source": [
        "# Assignment 06 Solutions"
      ]
    },
    {
      "cell_type": "markdown",
      "id": "9dce2ceb",
      "metadata": {
        "id": "9dce2ceb"
      },
      "source": [
        "#### Q1. Describe three applications for exception processing.\n",
        "**Ans:** Error Handling in File Operations: Exception processing is an essential tool for handling errors that may occur while working with files. For example, if a file that needs to be read by a Python program is not found, an exception is raised. This exception can be caught and handled by the program to gracefully terminate the operation or take other appropriate actions.\n",
        "\n",
        "Database Operations: Python is widely used for database operations, and exception processing is crucial for handling errors that may arise while interacting with databases. For instance, if there is a problem connecting to a database, an exception can be raised. This exception can then be caught and handled by the program to try to reconnect to the database or take other corrective actions.\n",
        "\n",
        "Web Development: Exception processing is also useful in web development. Python is commonly used for developing web applications, and exceptions can be raised in various parts of a web application, such as when handling user input or connecting to external APIs. These exceptions can be caught and handled by the program to display appropriate error messages to the user or take other necessary actions to handle the exception. For instance, if a user tries to log in with an incorrect password, an exception can be raised and handled by displaying an error message to the user.\n",
        "\n",
        "\n",
        "\n"
      ]
    },
    {
      "cell_type": "markdown",
      "id": "c82ae389",
      "metadata": {
        "id": "c82ae389"
      },
      "source": [
        "#### Q2. What happens if you don't do something extra to treat an exception?\n",
        "**Ans:** If Exceptions are not handled flow of program will be broken during the run time which might lead to a abnormal termination of the program. Inshort inability of program to handle exceptions will result in crashing of program."
      ]
    },
    {
      "cell_type": "markdown",
      "id": "5adab9bd",
      "metadata": {
        "id": "5adab9bd"
      },
      "source": [
        "#### Q3. What are your options for recovering from an exception in your script?\n",
        "**Ans:** Python provides **`try`** and **`except`** statements for recovering from an exception in your script."
      ]
    },
    {
      "cell_type": "markdown",
      "id": "d7379d80",
      "metadata": {
        "id": "d7379d80"
      },
      "source": [
        "#### Q4. Describe two methods for triggering exceptions in your script ?\n",
        "**Ans:** **`raise`** and **`assert`** are two methods that can be used to trigger manual exceptions in your script.\n",
        "- **`raise`** method triggers an exception if condition provided to it turns out to be True.\n",
        "- **`assert`** will let the program to continue execution if condition provided to it turns out to be True else exception will be raised"
      ]
    },
    {
      "cell_type": "code",
      "execution_count": null,
      "id": "55ca2b5b",
      "metadata": {
        "id": "55ca2b5b",
        "outputId": "83ca55cb-c68c-404f-cd27-fac45b9503a2"
      },
      "outputs": [
        {
          "ename": "Exception",
          "evalue": "X Value Should not exceed 5 The Provided Value of X is 10",
          "output_type": "error",
          "traceback": [
            "\u001b[1;31m---------------------------------------------------------------------------\u001b[0m",
            "\u001b[1;31mException\u001b[0m                                 Traceback (most recent call last)",
            "\u001b[1;32m<ipython-input-1-3bda0e4dbc13>\u001b[0m in \u001b[0;36m<module>\u001b[1;34m()\u001b[0m\n\u001b[0;32m      1\u001b[0m \u001b[1;31m# Example of raise\u001b[0m\u001b[1;33m\u001b[0m\u001b[1;33m\u001b[0m\u001b[1;33m\u001b[0m\u001b[0m\n\u001b[0;32m      2\u001b[0m \u001b[0mx\u001b[0m \u001b[1;33m=\u001b[0m \u001b[1;36m10\u001b[0m\u001b[1;33m\u001b[0m\u001b[1;33m\u001b[0m\u001b[0m\n\u001b[1;32m----> 3\u001b[1;33m \u001b[1;32mraise\u001b[0m \u001b[0mException\u001b[0m\u001b[1;33m(\u001b[0m\u001b[1;34mf'X Value Should not exceed 5 The Provided Value of X is {x}'\u001b[0m\u001b[1;33m)\u001b[0m\u001b[1;33m\u001b[0m\u001b[1;33m\u001b[0m\u001b[0m\n\u001b[0m",
            "\u001b[1;31mException\u001b[0m: X Value Should not exceed 5 The Provided Value of X is 10"
          ]
        }
      ],
      "source": [
        "# Example of raise\n",
        "x = 10\n",
        "raise Exception(f'X Value Should not exceed 5 The Provided Value of X is {x}')"
      ]
    },
    {
      "cell_type": "code",
      "execution_count": null,
      "id": "b9bfe958",
      "metadata": {
        "id": "b9bfe958",
        "outputId": "a3127b13-c02d-473e-e1c4-8b5b9fd946d0"
      },
      "outputs": [
        {
          "ename": "AssertionError",
          "evalue": "2 is not equal to 4",
          "output_type": "error",
          "traceback": [
            "\u001b[1;31m---------------------------------------------------------------------------\u001b[0m",
            "\u001b[1;31mAssertionError\u001b[0m                            Traceback (most recent call last)",
            "\u001b[1;32m<ipython-input-2-b3cb1796e5b9>\u001b[0m in \u001b[0;36m<module>\u001b[1;34m()\u001b[0m\n\u001b[0;32m      1\u001b[0m \u001b[1;31m# Example of assert\u001b[0m\u001b[1;33m\u001b[0m\u001b[1;33m\u001b[0m\u001b[1;33m\u001b[0m\u001b[0m\n\u001b[1;32m----> 2\u001b[1;33m \u001b[1;32massert\u001b[0m\u001b[1;33m(\u001b[0m\u001b[1;36m2\u001b[0m\u001b[1;33m==\u001b[0m\u001b[1;36m4\u001b[0m\u001b[1;33m)\u001b[0m\u001b[1;33m,\u001b[0m \u001b[1;34m\"2 is not equal to 4\"\u001b[0m\u001b[1;33m\u001b[0m\u001b[1;33m\u001b[0m\u001b[0m\n\u001b[0m",
            "\u001b[1;31mAssertionError\u001b[0m: 2 is not equal to 4"
          ]
        }
      ],
      "source": [
        "# Example of assert\n",
        "assert(2==4), \"2 is not equal to 4\""
      ]
    },
    {
      "cell_type": "markdown",
      "id": "6335bd5c",
      "metadata": {
        "id": "6335bd5c"
      },
      "source": [
        "#### Q5. Identify two methods for specifying actions to be executed at termination time, regardless of whether or not an exception exists.\n",
        "**Ans:** Python Provides **`else`** and **`finally`** blocks for specifying actions to be executed at termination time, regardless of whether an exceptions exists or not."
      ]
    }
  ],
  "metadata": {
    "kernelspec": {
      "display_name": "Python 3",
      "language": "python",
      "name": "python3"
    },
    "language_info": {
      "codemirror_mode": {
        "name": "ipython",
        "version": 3
      },
      "file_extension": ".py",
      "mimetype": "text/x-python",
      "name": "python",
      "nbconvert_exporter": "python",
      "pygments_lexer": "ipython3",
      "version": "3.6.13"
    },
    "colab": {
      "provenance": [],
      "include_colab_link": true
    }
  },
  "nbformat": 4,
  "nbformat_minor": 5
}