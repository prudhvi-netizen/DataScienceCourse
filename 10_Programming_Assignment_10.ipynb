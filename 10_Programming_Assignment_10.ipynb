{
  "cells": [
    {
      "cell_type": "markdown",
      "metadata": {
        "id": "view-in-github",
        "colab_type": "text"
      },
      "source": [
        "<a href=\"https://colab.research.google.com/github/prudhvi-netizen/DataScienceCourse/blob/Python-Programming-Assignment/10_Programming_Assignment_10.ipynb\" target=\"_parent\"><img src=\"https://colab.research.google.com/assets/colab-badge.svg\" alt=\"Open In Colab\"/></a>"
      ]
    },
    {
      "cell_type": "markdown",
      "id": "0753e292",
      "metadata": {
        "id": "0753e292"
      },
      "source": [
        "# Assignment 10 Solutions"
      ]
    },
    {
      "cell_type": "markdown",
      "id": "d6f96d38",
      "metadata": {
        "id": "d6f96d38"
      },
      "source": [
        "#### 1.Write a Python Program to find sum of elements in a list ?"
      ]
    },
    {
      "cell_type": "code",
      "execution_count": 2,
      "id": "1fbea5b2",
      "metadata": {
        "colab": {
          "base_uri": "https://localhost:8080/"
        },
        "id": "1fbea5b2",
        "outputId": "93216ed5-8ed7-4617-f160-2808fd9464b6"
      },
      "outputs": [
        {
          "output_type": "stream",
          "name": "stdout",
          "text": [
            "Enter the No of Entries in a List: 3\n",
            "Enter a element: 1\n",
            "Enter a element: 2\n",
            "Enter a element: 3\n",
            "Sum of Elements: 6\n"
          ]
        }
      ],
      "source": [
        "def sumofList():\n",
        "    in_ele = int(input('Enter the No of Entries in a List: '))\n",
        "    in_list = []\n",
        "    for itr in range(in_ele):\n",
        "        in_list.append(int(input('Enter a element: ')))\n",
        "    print(f'Sum of Elements: {sum(in_list)}')\n",
        "45\n",
        "sumofList()"
      ]
    },
    {
      "cell_type": "markdown",
      "id": "35ff9c7c",
      "metadata": {
        "id": "35ff9c7c"
      },
      "source": [
        "#### 2.Write a Python Program to multiply all numbers in the list ?"
      ]
    },
    {
      "cell_type": "code",
      "execution_count": 3,
      "id": "d77e77e6",
      "metadata": {
        "colab": {
          "base_uri": "https://localhost:8080/"
        },
        "id": "d77e77e6",
        "outputId": "da54f4f6-172f-4748-934c-46c7f82f490b"
      },
      "outputs": [
        {
          "output_type": "stream",
          "name": "stdout",
          "text": [
            "Enter the No of Entries in a List: 2\n",
            "Enter a element: 1\n",
            "Enter a element: 2\n",
            "2\n"
          ]
        }
      ],
      "source": [
        "def mulofList():\n",
        "    in_ele = int(input('Enter the No of Entries in a List: '))\n",
        "    in_list = []\n",
        "    mul = 1\n",
        "    for itr in range(in_ele):\n",
        "        in_list.append(int(input('Enter a element: ')))\n",
        "    for ele in in_list:\n",
        "        mul = mul * ele\n",
        "    print(mul)\n",
        "\n",
        "mulofList()"
      ]
    },
    {
      "cell_type": "markdown",
      "id": "0561967b",
      "metadata": {
        "id": "0561967b"
      },
      "source": [
        "#### 3.Write a Python Program to find smallest number in the list ?"
      ]
    },
    {
      "cell_type": "code",
      "execution_count": 4,
      "id": "3e9863eb",
      "metadata": {
        "colab": {
          "base_uri": "https://localhost:8080/"
        },
        "id": "3e9863eb",
        "outputId": "8350d2f2-83fc-4ad1-bb50-34e1d90e4934"
      },
      "outputs": [
        {
          "output_type": "stream",
          "name": "stdout",
          "text": [
            "Enter the No of elements in a list: 3\n",
            "Enter a Element: 2\n",
            "Enter a Element: 3\n",
            "Enter a Element: 4\n",
            "The Smallest Element in [2, 3, 4] is 2\n"
          ]
        }
      ],
      "source": [
        "def smallEleInList():\n",
        "    in_ele = int(input('Enter the No of elements in a list: '))\n",
        "    in_list = []\n",
        "    for ele in range(in_ele):\n",
        "        in_list.append(int(input('Enter a Element: ')))\n",
        "    print(f'The Smallest Element in {in_list} is {sorted(in_list)[0]}')\n",
        "smallEleInList()"
      ]
    },
    {
      "cell_type": "markdown",
      "id": "0684d2e6",
      "metadata": {
        "id": "0684d2e6"
      },
      "source": [
        "#### 4.Write a Python Program to find largest number in the list ?"
      ]
    },
    {
      "cell_type": "code",
      "execution_count": 5,
      "id": "c1984a1c",
      "metadata": {
        "colab": {
          "base_uri": "https://localhost:8080/"
        },
        "id": "c1984a1c",
        "outputId": "6a49bc42-9b7f-4246-b4cc-ba88d279d6ed"
      },
      "outputs": [
        {
          "output_type": "stream",
          "name": "stdout",
          "text": [
            "Enter the No of elements in a list: 3\n",
            "Enter a Element: 4\n",
            "Enter a Element: 5\n",
            "Enter a Element: 6\n",
            "The Largest Element in [4, 5, 6] is 6\n"
          ]
        }
      ],
      "source": [
        "def largestEleInList():\n",
        "    in_ele = int(input('Enter the No of elements in a list: '))\n",
        "    in_list = []\n",
        "    for ele in range(in_ele):\n",
        "        in_list.append(int(input('Enter a Element: ')))\n",
        "    print(f'The Largest Element in {in_list} is {sorted(in_list, reverse=True)[0]}')\n",
        "\n",
        "largestEleInList()"
      ]
    },
    {
      "cell_type": "markdown",
      "id": "ef882ac4",
      "metadata": {
        "id": "ef882ac4"
      },
      "source": [
        "#### 5.Write a Python Program to find second largest number in the list ?"
      ]
    },
    {
      "cell_type": "code",
      "execution_count": 6,
      "id": "ca2c5e29",
      "metadata": {
        "colab": {
          "base_uri": "https://localhost:8080/"
        },
        "id": "ca2c5e29",
        "outputId": "c87331f5-c9eb-4e2d-deb9-88b28c4de53b"
      },
      "outputs": [
        {
          "output_type": "stream",
          "name": "stdout",
          "text": [
            "Enter the No of elements in a list: 5\n",
            "Enter a Element: 34\n",
            "Enter a Element: 34\n",
            "Enter a Element: 54\n",
            "Enter a Element: 66\n",
            "Enter a Element: 78\n",
            "The Second Largest Element in [34, 34, 54, 66, 78] is 66\n"
          ]
        }
      ],
      "source": [
        "def secondLargestEleInList():\n",
        "    in_ele = int(input('Enter the No of elements in a list: '))\n",
        "    in_list = []\n",
        "    for ele in range(in_ele):\n",
        "        in_list.append(int(input('Enter a Element: ')))\n",
        "    print(f'The Second Largest Element in {in_list} is {sorted(in_list, reverse=True)[1]}')\n",
        "\n",
        "secondLargestEleInList()"
      ]
    },
    {
      "cell_type": "markdown",
      "id": "ee185d52",
      "metadata": {
        "id": "ee185d52"
      },
      "source": [
        "#### 6.Write a Python Program to find N largest elements in the list ?"
      ]
    },
    {
      "cell_type": "code",
      "execution_count": 7,
      "id": "e2c518fa",
      "metadata": {
        "colab": {
          "base_uri": "https://localhost:8080/"
        },
        "id": "e2c518fa",
        "outputId": "eabc5fd8-67b6-44cb-d2c7-652c22559580"
      },
      "outputs": [
        {
          "output_type": "stream",
          "name": "stdout",
          "text": [
            "Enter the No of elements in a list: 4\n",
            "Enter a Element: 3\n",
            "Enter a Element: 4\n",
            "Enter a Element: 5\n",
            "Enter a Element: 6\n",
            "The 4 Largest Element in [3, 4, 5, 6] is [6, 5, 4, 3]\n"
          ]
        }
      ],
      "source": [
        "def nLargestEleInList(k):\n",
        "    in_ele = int(input('Enter the No of elements in a list: '))\n",
        "    in_list = []\n",
        "    for ele in range(in_ele):\n",
        "        in_list.append(int(input('Enter a Element: ')))\n",
        "    print(f'The {k} Largest Element in {in_list} is {sorted(in_list, reverse=True)[0:k]}')\n",
        "\n",
        "nLargestEleInList(4)6"
      ]
    },
    {
      "cell_type": "markdown",
      "id": "7f5a2b91",
      "metadata": {
        "id": "7f5a2b91"
      },
      "source": [
        "#### 7.Write a Python Program to find even numbers in the list ?"
      ]
    },
    {
      "cell_type": "code",
      "execution_count": 8,
      "id": "e9b0d19a",
      "metadata": {
        "colab": {
          "base_uri": "https://localhost:8080/"
        },
        "id": "e9b0d19a",
        "outputId": "d3d9a424-8bc7-4b54-9eba-be07af247cd9"
      },
      "outputs": [
        {
          "output_type": "stream",
          "name": "stdout",
          "text": [
            "Enter the No of elements in a list: 3\n",
            "Enter a Element: 4\n",
            "Enter a Element: 5\n",
            "Enter a Element: 6\n",
            "The Even Elements in [4, 5, 6] are [4, 6]\n"
          ]
        }
      ],
      "source": [
        "def evenNoInList():\n",
        "    in_ele = int(input('Enter the No of elements in a list: '))\n",
        "    in_list = []\n",
        "    even_list = []\n",
        "    for ele in range(in_ele):\n",
        "        in_list.append(int(input('Enter a Element: ')))\n",
        "    for ele in in_list:\n",
        "        if ele%2 == 0:\n",
        "            even_list.append(ele)\n",
        "    print(f'The Even Elements in {in_list} are {even_list}')\n",
        "\n",
        "evenNoInList()"
      ]
    },
    {
      "cell_type": "markdown",
      "id": "a5d3f862",
      "metadata": {
        "id": "a5d3f862"
      },
      "source": [
        "#### 8.Write a Python Program to find odd numbers in the list ?"
      ]
    },
    {
      "cell_type": "code",
      "execution_count": 9,
      "id": "101d0718",
      "metadata": {
        "colab": {
          "base_uri": "https://localhost:8080/"
        },
        "id": "101d0718",
        "outputId": "393915ca-d56c-47ea-e3f2-5ed89fbb224e"
      },
      "outputs": [
        {
          "output_type": "stream",
          "name": "stdout",
          "text": [
            "Enter the No of elements in a list: 4\n",
            "Enter a Element: 34\n",
            "Enter a Element: 45\n",
            "Enter a Element: 67\n",
            "Enter a Element: 78\n",
            "The Even Elements in [34, 45, 67, 78] are [45, 67]\n"
          ]
        }
      ],
      "source": [
        "def oddNoInList():\n",
        "    in_ele = int(input('Enter the No of elements in a list: '))\n",
        "    in_list = []\n",
        "    odd_list = []\n",
        "    for ele in range(in_ele):\n",
        "        in_list.append(int(input('Enter a Element: ')))\n",
        "    for ele in in_list:\n",
        "        if ele%2 != 0:\n",
        "            odd_list.append(ele)\n",
        "    print(f'The Even Elements in {in_list} are {odd_list}')\n",
        "\n",
        "oddNoInList()"
      ]
    },
    {
      "cell_type": "markdown",
      "id": "f97fa7ea",
      "metadata": {
        "id": "f97fa7ea"
      },
      "source": [
        "#### 9.Write a Python Program to remove empty list from list ?"
      ]
    },
    {
      "cell_type": "code",
      "execution_count": 11,
      "id": "193a2ef1",
      "metadata": {
        "colab": {
          "base_uri": "https://localhost:8080/"
        },
        "id": "193a2ef1",
        "outputId": "9c468a77-de24-4c8e-bacc-d63a40dd6193"
      },
      "outputs": [
        {
          "output_type": "stream",
          "name": "stdout",
          "text": [
            "Enter all elements of the list: 3,4,5,6\n",
            "There is no [] List in the list (3, 4, 5, 6)\n"
          ]
        }
      ],
      "source": [
        "def checkEmptyList():\n",
        "    in_list = eval(input('Enter all elements of the list: '))\n",
        "    if [] in in_list:\n",
        "        print(f'There is an Empty list in {in_list} at Position {in_list.index([])}')\n",
        "        in_list.remove([])\n",
        "        print(f'The List after removing [] is {in_list}')\n",
        "    else:\n",
        "        print(f'There is no [] List in the list {in_list}')\n",
        "        \n",
        "checkEmptyList()"
      ]
    },
    {
      "cell_type": "markdown",
      "id": "1a5b1f91",
      "metadata": {
        "id": "1a5b1f91"
      },
      "source": [
        "#### 10.Write a Python Program to Cloning or Copying a list ?"
      ]
    },
    {
      "cell_type": "code",
      "execution_count": null,
      "id": "55882ca5",
      "metadata": {
        "id": "55882ca5",
        "outputId": "88c0a6dc-5e23-4575-ae4b-e72c76e68b93"
      },
      "outputs": [
        {
          "name": "stdout",
          "output_type": "stream",
          "text": [
            "Enter a list[1,2,3,4,5,6,7,8,9,0]\n",
            "[1, 2, 3, 4, 5, 6, 7, 8, 9, 0] 1804715913280\n",
            "[1, 2, 3, 4, 5, 6, 7, 8, 9, 0] 1804715963072\n"
          ]
        }
      ],
      "source": [
        "import copy\n",
        "\n",
        "def cloneList():\n",
        "    in_list = eval(input('Enter a list'))\n",
        "    print(in_list, id(in_list))\n",
        "    cloned_list = in_list.copy()\n",
        "    print(cloned_list, id(cloned_list))\n",
        "\n",
        "cloneList()"
      ]
    },
    {
      "cell_type": "markdown",
      "id": "37e5e6bd",
      "metadata": {
        "id": "37e5e6bd"
      },
      "source": [
        "#### 11.Write a Python Program to count occurences of an element in a list ?"
      ]
    },
    {
      "cell_type": "code",
      "execution_count": 12,
      "id": "8a5e7b52",
      "metadata": {
        "colab": {
          "base_uri": "https://localhost:8080/"
        },
        "id": "8a5e7b52",
        "outputId": "fbd3429c-cb4a-497b-89f5-e656f69936de"
      },
      "outputs": [
        {
          "output_type": "stream",
          "name": "stdout",
          "text": [
            "Enter the elements of the list: 2,3,4,5\n",
            "Enter the element to find: 3\n",
            "There are 1 occurences of 3 in (2, 3, 4, 5)\n"
          ]
        }
      ],
      "source": [
        "def checkOccurence():\n",
        "    in_list = eval(input('Enter the elements of the list: '))\n",
        "    in_num = eval(input('Enter the element to find: '))\n",
        "    count = 0\n",
        "    if in_num in in_list:\n",
        "        for ele in in_list:\n",
        "            if ele == in_num:\n",
        "                count = count+1\n",
        "    print(f'There are {count} occurences of {in_num} in {in_list}')\n",
        "    \n",
        "checkOccurence()"
      ]
    }
  ],
  "metadata": {
    "kernelspec": {
      "display_name": "Python 3",
      "language": "python",
      "name": "python3"
    },
    "language_info": {
      "codemirror_mode": {
        "name": "ipython",
        "version": 3
      },
      "file_extension": ".py",
      "mimetype": "text/x-python",
      "name": "python",
      "nbconvert_exporter": "python",
      "pygments_lexer": "ipython3",
      "version": "3.8.8"
    },
    "colab": {
      "provenance": [],
      "include_colab_link": true
    }
  },
  "nbformat": 4,
  "nbformat_minor": 5
}