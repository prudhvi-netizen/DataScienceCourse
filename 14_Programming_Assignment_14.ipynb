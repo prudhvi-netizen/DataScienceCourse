{
  "cells": [
    {
      "cell_type": "markdown",
      "metadata": {
        "id": "view-in-github",
        "colab_type": "text"
      },
      "source": [
        "<a href=\"https://colab.research.google.com/github/prudhvi-netizen/DataScienceCourse/blob/Python-Programming-Assignment/14_Programming_Assignment_14.ipynb\" target=\"_parent\"><img src=\"https://colab.research.google.com/assets/colab-badge.svg\" alt=\"Open In Colab\"/></a>"
      ]
    },
    {
      "cell_type": "markdown",
      "id": "c3f881ef",
      "metadata": {
        "id": "c3f881ef"
      },
      "source": [
        "# Assignment 14 Solutions"
      ]
    },
    {
      "cell_type": "markdown",
      "id": "26f96cce",
      "metadata": {
        "id": "26f96cce"
      },
      "source": [
        "#### 1.Define a class with a generator which can iterate the numbers, which are divisible by 7, between a given range 0 and n. ?"
      ]
    },
    {
      "cell_type": "code",
      "execution_count": 1,
      "id": "72acae67",
      "metadata": {
        "id": "72acae67",
        "outputId": "dc23617f-10e6-4c05-9f11-9bdc17a7ca95",
        "colab": {
          "base_uri": "https://localhost:8080/"
        }
      },
      "outputs": [
        {
          "output_type": "stream",
          "name": "stdout",
          "text": [
            "0 7 14 21 28 35 42 49 56 63 70 77 84 91 98 105 112 119 126 133 140 147 154 161 168 175 182 189 196 203 210 217 224 231 238 245 252 259 266 273 280 287 294 301 308 315 322 329 336 343 350 "
          ]
        }
      ],
      "source": [
        "class div_generator:\n",
        "    def __init__(self,in_num):\n",
        "        self.in_num = in_num\n",
        "    def get_numbers(self):\n",
        "        for ele in range(0,self.in_num+1):\n",
        "            if ele%7 == 0:\n",
        "                yield ele\n",
        "                \n",
        "output = div_generator(350)\n",
        "for ele in output.get_numbers():\n",
        "    print(ele,end=' ')"
      ]
    },
    {
      "cell_type": "markdown",
      "id": "2eb406d4",
      "metadata": {
        "id": "2eb406d4"
      },
      "source": [
        "#### 2.Write a program to compute the frequency of the words from the input. The output should output after sorting the key alphanumerically. \n",
        "Suppose the following input is supplied to the program:   \n",
        "`New to Python or choosing between Python 2 and Python 3? Read Python 2 or Python 3.`  \n",
        "Then, the output should be:  \n",
        "`2:2 3.:1 3?:1 New:1 Python:5 Read:1 and:1 between:1 choosing:1 or:2 to:1`"
      ]
    },
    {
      "cell_type": "code",
      "execution_count": null,
      "id": "03ae5610",
      "metadata": {
        "id": "03ae5610",
        "outputId": "6cf488cb-81ad-4b41-e049-618d7b3f6c81"
      },
      "outputs": [
        {
          "name": "stdout",
          "output_type": "stream",
          "text": [
            "Enter the Input String: New to Python or choosing between Python 2 and Python 3? Read Python 2 or Python 3.\n",
            "2:2 3.:1 3?:1 New:1 Python:5 Read:1 and:1 between:1 choosing:1 or:2 to:1 "
          ]
        }
      ],
      "source": [
        "def checkFrequency():\n",
        "    in_string = input(\"Enter the Input String: \")\n",
        "    frequency = {}\n",
        "    for ele in in_string.split(\" \"):\n",
        "        if(frequency.get(ele) == None):\n",
        "            frequency[ele] = 1\n",
        "        else:\n",
        "            frequency[ele] += 1 \n",
        "    for ele in sorted(frequency):\n",
        "        print(f'{ele}:{frequency[ele]}',end=\" \")\n",
        "checkFrequency()"
      ]
    },
    {
      "cell_type": "markdown",
      "id": "a5f6f43e",
      "metadata": {
        "id": "a5f6f43e"
      },
      "source": [
        "#### 3.Define a class Person and its two child classes: Male and Female. All classes have a method \"getGender\" which can print \"Male\" for Male class and \"Female\" for Female class. ?"
      ]
    },
    {
      "cell_type": "code",
      "execution_count": null,
      "id": "b28ef752",
      "metadata": {
        "id": "b28ef752",
        "outputId": "c499b255-af56-4219-c98e-87e2fd60a480"
      },
      "outputs": [
        {
          "name": "stdout",
          "output_type": "stream",
          "text": [
            "Male\n",
            "Female\n"
          ]
        }
      ],
      "source": [
        "class Person():\n",
        "    def getGender():\n",
        "        pass\n",
        "    \n",
        "class Male(Person):\n",
        "    def getGender():\n",
        "        print(\"Male\")\n",
        "        \n",
        "class Female(Person):\n",
        "    def getGender():\n",
        "        print(\"Female\")\n",
        "\n",
        "Male.getGender()\n",
        "Female.getGender()"
      ]
    },
    {
      "cell_type": "markdown",
      "id": "edf0f4be",
      "metadata": {
        "id": "edf0f4be"
      },
      "source": [
        "#### 4.Please write a program to generate all sentences where subject is in [\"I\", \"You\"] and verb is in [\"Play\", \"Love\"] and the object is in [\"Hockey\",\"Football\"] ?"
      ]
    },
    {
      "cell_type": "code",
      "execution_count": null,
      "id": "20d6fe7d",
      "metadata": {
        "id": "20d6fe7d",
        "outputId": "bfdc503b-ec13-411e-e41e-9dd4f09552c5"
      },
      "outputs": [
        {
          "name": "stdout",
          "output_type": "stream",
          "text": [
            "I Play Hockey\n",
            "I Play Football\n",
            "I Love Hockey\n",
            "I Love Football\n",
            "You Play Hockey\n",
            "You Play Football\n",
            "You Love Hockey\n",
            "You Love Football\n"
          ]
        }
      ],
      "source": [
        "def generateSentences():\n",
        "    subject = ['I','You']\n",
        "    verb = ['Play','Love']\n",
        "    object = ['Hockey','Football']\n",
        "    for s in subject:\n",
        "        for v in verb:\n",
        "            for o in object:\n",
        "                print(f'{s} {v} {o}')\n",
        "                \n",
        "generateSentences()"
      ]
    },
    {
      "cell_type": "markdown",
      "id": "6e02a631",
      "metadata": {
        "id": "6e02a631"
      },
      "source": [
        "#### 5.Please write a program to compress and decompress the string \"hello world!hello world!hello world!hello world!\" ?"
      ]
    },
    {
      "cell_type": "code",
      "execution_count": null,
      "id": "e968e1dd",
      "metadata": {
        "id": "e968e1dd",
        "outputId": "4e92d379-487f-435f-c558-d29aa2d6ee8a"
      },
      "outputs": [
        {
          "name": "stdout",
          "output_type": "stream",
          "text": [
            "hel2o world!hel2o world!hel2o world!hel2o world!\n",
            "hello world!hello world!hello world!hello world!\n",
            "ineuron ful2 stack datascience\n",
            "ineuron full stack datascience\n"
          ]
        }
      ],
      "source": [
        "def compress(in_string):\n",
        "    output = in_string[0]\n",
        "    count = 1\n",
        "    for ele in range(len(in_string)-1):\n",
        "        if in_string[ele] == in_string[ele+1]:\n",
        "            count +=1\n",
        "        else:\n",
        "            if count > 1:\n",
        "                output += str(count)\n",
        "            output += in_string[ele+1]\n",
        "            count = 1\n",
        "    if count > 1:\n",
        "        output += str(count)            \n",
        "    print(output)\n",
        "\n",
        "\n",
        "def decompress(in_string):\n",
        "    output = ''\n",
        "    for ele in range(len(in_string)):\n",
        "        if in_string[ele].isdigit():\n",
        "            output += output[-1]*(int(in_string[ele])-1)\n",
        "        else:\n",
        "            output += in_string[ele]\n",
        "    print(output)\n",
        "    \n",
        "        \n",
        "compress(\"hello world!hello world!hello world!hello world!\")\n",
        "decompress(\"hel2o world!hel2o world!hel2o world!hel2o world!\")\n",
        "\n",
        "compress('ineuron full stack datascience')\n",
        "decompress('ineuron ful2 stack datascience')"
      ]
    },
    {
      "cell_type": "markdown",
      "id": "52513bb3",
      "metadata": {
        "id": "52513bb3"
      },
      "source": [
        "#### 6.Please write a binary search function which searches an item in a sorted list. The function should return the index of element to be searched in the list ?"
      ]
    },
    {
      "cell_type": "code",
      "execution_count": null,
      "id": "13e747f8",
      "metadata": {
        "id": "13e747f8",
        "outputId": "82e0b413-4a89-4699-8f00-5fd19140f81e"
      },
      "outputs": [
        {
          "name": "stdout",
          "output_type": "stream",
          "text": [
            "7\n",
            "Input Element not in the list\n"
          ]
        }
      ],
      "source": [
        "sorted_list = [1,2,3,4,5,6,7,8,9,10]\n",
        "def binary_search(in_list,in_num):\n",
        "    low = 0\n",
        "    high = len(in_list)-1\n",
        "    while low <= high:\n",
        "        mid = high+low//2\n",
        "        if in_list[mid] < in_num:\n",
        "            low = mid+1\n",
        "        elif in_list[mid] > in_num:\n",
        "            high = mid-1\n",
        "        else:\n",
        "            return mid\n",
        "    else:\n",
        "        return 'Input Element not in the list'\n",
        "    \n",
        "print(binary_search(sorted_list,8))\n",
        "print(binary_search(sorted_list,100))"
      ]
    }
  ],
  "metadata": {
    "kernelspec": {
      "display_name": "Python 3 (ipykernel)",
      "language": "python",
      "name": "python3"
    },
    "language_info": {
      "codemirror_mode": {
        "name": "ipython",
        "version": 3
      },
      "file_extension": ".py",
      "mimetype": "text/x-python",
      "name": "python",
      "nbconvert_exporter": "python",
      "pygments_lexer": "ipython3",
      "version": "3.8.8"
    },
    "colab": {
      "provenance": [],
      "include_colab_link": true
    }
  },
  "nbformat": 4,
  "nbformat_minor": 5
}