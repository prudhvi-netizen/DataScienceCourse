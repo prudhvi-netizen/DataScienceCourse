{
 "cells": [
  {
   "cell_type": "code",
   "execution_count": null,
   "id": "42431c1b",
   "metadata": {},
   "outputs": [],
   "source": [
    "1. In the below elements which of them are values or an expression? eg:- values can be\n",
    "integer or string and expressions will be mathematical operators.\n",
    "*\n",
    "&#39;hello&#39;\n",
    "-87.8\n",
    "-\n",
    "/\n",
    "+\n",
    "6"
   ]
  },
  {
   "cell_type": "code",
   "execution_count": null,
   "id": "d87c2495",
   "metadata": {},
   "outputs": [],
   "source": [
    " There are a total of 4 Operators and 3 Expressions, \n",
    "They are:\n",
    "Operators: *,-,/,+,&\n",
    "Expressions: 'hello', 87.8, 6,#39"
   ]
  },
  {
   "cell_type": "code",
   "execution_count": null,
   "id": "6587e038",
   "metadata": {},
   "outputs": [],
   "source": [
    "2. What is the difference between string and variable?"
   ]
  },
  {
   "cell_type": "code",
   "execution_count": null,
   "id": "5ca31f56",
   "metadata": {},
   "outputs": [],
   "source": [
    " Basically Variable is used for information storage, and a String is a datatype of information you would store in a Variable. A String is basically a group of characters or a single character usually enclosed in Double quotes \" \" or single quotes ' '"
   ]
  },
  {
   "cell_type": "code",
   "execution_count": null,
   "id": "7de3e1ec",
   "metadata": {},
   "outputs": [],
   "source": [
    "3. Describe three different data types."
   ]
  },
  {
   "cell_type": "code",
   "execution_count": null,
   "id": "7f478689",
   "metadata": {},
   "outputs": [],
   "source": [
    "Three fundamental Data types in python are int, float, complex.\n",
    "\n",
    "int data type: integer is a data type that is used to represent whole numbers (integral values)\n",
    "float data type:  float is a data type that is used to represent floating point values (decimal values)\n",
    "complex data type: Complex number is a datatype that is represented by complex class. It is specified as (real part) + (imaginary part)j."
   ]
  },
  {
   "cell_type": "code",
   "execution_count": null,
   "id": "6073290b",
   "metadata": {},
   "outputs": [],
   "source": [
    "4. What is an expression made up of? What do all expressions do?"
   ]
  },
  {
   "cell_type": "code",
   "execution_count": null,
   "id": "90c9c17b",
   "metadata": {},
   "outputs": [],
   "source": [
    " An expression is a combination of values, variables, operators, and calls to functions. Expressions need to be evaluated.  Python can print an expression, and the interpreter evaluates the expression and displays the result."
   ]
  },
  {
   "cell_type": "code",
   "execution_count": null,
   "id": "ad95f827",
   "metadata": {},
   "outputs": [],
   "source": [
    "5.This assignment statements, like spam = 10. What is the difference between an\n",
    "expression and a statement?"
   ]
  },
  {
   "cell_type": "code",
   "execution_count": null,
   "id": "6dc9573d",
   "metadata": {},
   "outputs": [],
   "source": [
    "Statements represent an action or command \n",
    "EX:24*25+100-40 # Is a Expression\n",
    "Expression is a combination of variables, operations and values that yields a result value.\n",
    "Name = 'My name is Prudhvi' # Is a Statement\n",
    "# Expression Statement\n",
    "print(\"Hello World !\") "
   ]
  },
  {
   "cell_type": "raw",
   "id": "715658ec",
   "metadata": {},
   "source": [
    "6.After running the following code, what does the variable bacon contain?\n",
    "bacon = 22\n",
    "bacon + 1"
   ]
  },
  {
   "cell_type": "code",
   "execution_count": 3,
   "id": "f4516603",
   "metadata": {},
   "outputs": [
    {
     "name": "stdout",
     "output_type": "stream",
     "text": [
      "22\n"
     ]
    }
   ],
   "source": [
    "bacon = 22\n",
    "bacon + 1\n",
    "print(bacon)\n",
    "#The variable bacon is set to 22 so it contain 22"
   ]
  },
  {
   "cell_type": "raw",
   "id": "440514d8",
   "metadata": {},
   "source": [
    "7. What should the values of the following two terms be?\n",
    "'spam' +'spamspam';\n",
    "'spam'* 3"
   ]
  },
  {
   "cell_type": "code",
   "execution_count": 5,
   "id": "629a2f4f",
   "metadata": {},
   "outputs": [
    {
     "data": {
      "text/plain": [
       "'spamspamspam'"
      ]
     },
     "execution_count": 5,
     "metadata": {},
     "output_type": "execute_result"
    }
   ],
   "source": [
    "'spam' +'spamspam';\n",
    "'spam'* 3"
   ]
  },
  {
   "cell_type": "raw",
   "id": "d70ac452",
   "metadata": {},
   "source": [
    "8. Why is eggs a valid variable name while 100 is invalid?"
   ]
  },
  {
   "cell_type": "code",
   "execution_count": 8,
   "id": "e2fb0ed7",
   "metadata": {},
   "outputs": [
    {
     "ename": "SyntaxError",
     "evalue": "cannot assign to literal (1284877287.py, line 9)",
     "output_type": "error",
     "traceback": [
      "\u001b[1;36m  Input \u001b[1;32mIn [8]\u001b[1;36m\u001b[0m\n\u001b[1;33m    100='variable'\u001b[0m\n\u001b[1;37m    ^\u001b[0m\n\u001b[1;31mSyntaxError\u001b[0m\u001b[1;31m:\u001b[0m cannot assign to literal\n"
     ]
    }
   ],
   "source": [
    "#As per python,Variable names cannot begin with a number. The python rules for naming a variable are :-\n",
    "\n",
    "#Variable name must start with a letter or the underscore character.\n",
    "#Variable name cannot start with a number.\n",
    "#Variable name can only contain alpha-numeric characters and underscores (A-z, 0-9, & _ ).\n",
    "#Variable names are case-sensitive.\n",
    "#The reserved words(keywords) cannot be used naming the variable.\n",
    "egg='vegetarian'\n",
    "100='variable'"
   ]
  },
  {
   "cell_type": "raw",
   "id": "1e827e64",
   "metadata": {},
   "source": [
    "9. What three functions can be used to get the integer, floating-point number, or string\n",
    "version of a value?"
   ]
  },
  {
   "cell_type": "code",
   "execution_count": 13,
   "id": "9a1a648b",
   "metadata": {},
   "outputs": [
    {
     "name": "stdout",
     "output_type": "stream",
     "text": [
      "int(98.5) ->  98\n",
      "float(98) ->  98.0\n",
      "str(98.000) ->  98.0\n"
     ]
    }
   ],
   "source": [
    "#The int(),float(),and str() can be used to get the integer, floating-point number, or string version of a value\n",
    "print('int(98.5) -> ',int(98.5)) \n",
    "print('float(98) -> ',float(98))\n",
    "print('str(98.000) -> ',str(98.000)) "
   ]
  },
  {
   "cell_type": "raw",
   "id": "24f89943",
   "metadata": {},
   "source": [
    "10. Why does this expression cause an error? How can you fix it?"
   ]
  },
  {
   "cell_type": "code",
   "execution_count": 21,
   "id": "6f507dd1",
   "metadata": {},
   "outputs": [
    {
     "name": "stdout",
     "output_type": "stream",
     "text": [
      "I have eaten 99 burritos\n"
     ]
    }
   ],
   "source": [
    "#This cause of error is 99.because 99 is not a string. 99 must be typecasted to a string to fix this error. \n",
    "#the correct way is:\n",
    "print('I have eaten '+str(99)+' burritos')"
   ]
  }
 ],
 "metadata": {
  "kernelspec": {
   "display_name": "Python 3 (ipykernel)",
   "language": "python",
   "name": "python3"
  },
  "language_info": {
   "codemirror_mode": {
    "name": "ipython",
    "version": 3
   },
   "file_extension": ".py",
   "mimetype": "text/x-python",
   "name": "python",
   "nbconvert_exporter": "python",
   "pygments_lexer": "ipython3",
   "version": "3.9.12"
  }
 },
 "nbformat": 4,
 "nbformat_minor": 5
}
