{
  "cells": [
    {
      "cell_type": "markdown",
      "metadata": {
        "id": "view-in-github",
        "colab_type": "text"
      },
      "source": [
        "<a href=\"https://colab.research.google.com/github/prudhvi-netizen/DataScienceCourse/blob/Advance-Python-Assignment/03_Assignment_03.ipynb\" target=\"_parent\"><img src=\"https://colab.research.google.com/assets/colab-badge.svg\" alt=\"Open In Colab\"/></a>"
      ]
    },
    {
      "cell_type": "markdown",
      "id": "55846da8",
      "metadata": {
        "id": "55846da8"
      },
      "source": [
        "# Assignment 03 Solutions"
      ]
    },
    {
      "cell_type": "markdown",
      "id": "6d38e68b",
      "metadata": {
        "id": "6d38e68b"
      },
      "source": [
        "#### 1. What is the concept of an abstract superclass?\n",
        "**Ans:** An abstract superclass is typically used to group together related subclasses and to provide a common interface that they can all conform to. This can help to simplify code by reducing redundancy and promoting code reuse.\n",
        "\n",
        "In Python, an abstract superclass can be defined using the built-in abc module. This module provides a ABC (Abstract Base Class) class that can be subclassed to create an abstract superclass. Here's an example:n"
      ]
    },
    {
      "cell_type": "code",
      "execution_count": 1,
      "id": "00e14ca4",
      "metadata": {
        "colab": {
          "base_uri": "https://localhost:8080/"
        },
        "id": "00e14ca4",
        "outputId": "c820568e-422d-4f73-d0d2-3500a6631189"
      },
      "outputs": [
        {
          "output_type": "stream",
          "name": "stdout",
          "text": [
            "Woof!\n",
            "Meow!\n"
          ]
        }
      ],
      "source": [
        "from abc import ABC, abstractmethod\n",
        "\n",
        "class Animal(ABC):\n",
        "    @abstractmethod\n",
        "    def speak(self):\n",
        "        pass\n",
        "\n",
        "class Dog(Animal):\n",
        "    def speak(self):\n",
        "        return \"Woof!\"\n",
        "\n",
        "class Cat(Animal):\n",
        "    def speak(self):\n",
        "        return \"Meow!\"\n",
        "\n",
        "d = Dog()\n",
        "print(d.speak())  # Output: Woof!\n",
        "\n",
        "c = Cat()\n",
        "print(c.speak())  # Output: Meow!\n"
      ]
    },
    {
      "cell_type": "markdown",
      "id": "e4a49a25",
      "metadata": {
        "id": "e4a49a25"
      },
      "source": [
        "#### 2. What happens when a class statement's top level contains a basic assignment statement?\n",
        "**Ans:**When a class statement's top level contains a basic assignment statement, the assigned variable becomes a class-level variable or attribute that can be accessed by all instances of the class as well as the class itself."
      ]
    },
    {
      "cell_type": "code",
      "execution_count": 2,
      "id": "c5d88b4d",
      "metadata": {
        "colab": {
          "base_uri": "https://localhost:8080/"
        },
        "id": "c5d88b4d",
        "outputId": "44b45844-d193-4014-8d5a-9c70e02efa7b"
      },
      "outputs": [
        {
          "output_type": "stream",
          "name": "stdout",
          "text": [
            "0\n",
            "0\n",
            "3\n",
            "3\n"
          ]
        }
      ],
      "source": [
        "class MyClass:\n",
        "    x = 0   # this is a class-level variable\n",
        "\n",
        "    def __init__(self, y):\n",
        "        self.y = y   # this is an instance-level variable\n",
        "\n",
        "c1 = MyClass(1)\n",
        "c2 = MyClass(2)\n",
        "\n",
        "print(c1.x)   # Output: 0\n",
        "print(c2.x)   # Output: 0\n",
        "\n",
        "MyClass.x = 3   # modify class-level variable\n",
        "\n",
        "print(c1.x)   # Output: 3\n",
        "print(c2.x)   # Output: 3\n"
      ]
    },
    {
      "cell_type": "markdown",
      "id": "beb231b3",
      "metadata": {
        "id": "beb231b3"
      },
      "source": [
        "#### 3. Why does a class need to manually call a superclass's __init__ method?\n",
        "**Ans:** if a child class has **`__init__`** method, then it will not inherit the **`__init__`** method of the parent class. in other words the **`__init__`** method of the child class overrides the **`__init__`** method of the parent class. so we have to manually call a parent superclass's **`__init__`** using **`super()`** method"
      ]
    },
    {
      "cell_type": "code",
      "execution_count": 3,
      "id": "d30162f0",
      "metadata": {
        "colab": {
          "base_uri": "https://localhost:8080/"
        },
        "id": "d30162f0",
        "outputId": "3c70dc31-f639-4edc-da23-b756eba848ec"
      },
      "outputs": [
        {
          "output_type": "stream",
          "name": "stdout",
          "text": [
            "Fido is an animal.\n",
            "Fido is a dog.\n"
          ]
        }
      ],
      "source": [
        "class Animal:\n",
        "    def __init__(self, name):\n",
        "        self.name = name\n",
        "        print(f\"{self.name} is an animal.\")\n",
        "\n",
        "class Dog(Animal):\n",
        "    def __init__(self, name):\n",
        "        # call superclass's init method\n",
        "        super().__init__(name)\n",
        "        print(f\"{self.name} is a dog.\")\n",
        "\n",
        "d = Dog(\"Fido\")\n"
      ]
    },
    {
      "cell_type": "markdown",
      "id": "f7468111",
      "metadata": {
        "id": "f7468111"
      },
      "source": [
        "#### 4. How can you augment, instead of completely replacing, an inherited method?\n",
        "**Ans:** **`super()`** method can be used to augment, instead of completely replacing, an inherited method."
      ]
    },
    {
      "cell_type": "code",
      "execution_count": 4,
      "id": "437bf527",
      "metadata": {
        "colab": {
          "base_uri": "https://localhost:8080/"
        },
        "id": "437bf527",
        "outputId": "11a57a0e-c47c-428d-e496-5acc29684841"
      },
      "outputs": [
        {
          "output_type": "stream",
          "name": "stdout",
          "text": [
            "{'name': 'Prudhvi', 'gender': 'Male', 'salary': 10000}\n"
          ]
        }
      ],
      "source": [
        "class Person:\n",
        "    def __init__(self,name,gender):\n",
        "        self.name = name\n",
        "        self.gender = gender\n",
        "class Employee(Person):\n",
        "    def __init__(self,name,gender,salary):\n",
        "        super().__init__(name,gender) \n",
        "        self.salary = salary\n",
        "emp_1 = Employee('Prudhvi','Male',10000)\n",
        "print(emp_1.__dict__)       "
      ]
    },
    {
      "cell_type": "markdown",
      "id": "16559793",
      "metadata": {
        "id": "16559793"
      },
      "source": [
        "#### 5. How is the local scope of a class different from that of a function?\n",
        "**Ans:** A Variable which is defined inside a function is local to that function. it is accesible from the point at which it is defined until the end of the function, and exists for as long as the function is existing.\n",
        "\n",
        "Similary a variable inside of a class also has a local variable scope. Variables which are defined in the class body (but outside all methods) are called as class level variables or class attributes. they can be referenced by there bare names within the same scope, but they can also be accessed from outside this scope if we use the attribute access operator `(.)`. on a class or an instance of the class."
      ]
    },
    {
      "cell_type": "code",
      "execution_count": null,
      "id": "1d9896b9",
      "metadata": {
        "id": "1d9896b9",
        "outputId": "10195bf2-34b7-4018-a318-5624750a03e0"
      },
      "outputs": [
        {
          "name": "stdout",
          "output_type": "stream",
          "text": [
            "you're name is Mano Vishnu\n",
            "Name varible is not available outside hello function scope\n",
            "HomeSapines\n",
            "HomeSapines\n"
          ]
        }
      ],
      "source": [
        "def hello(name):\n",
        "    name = name\n",
        "    print(f'you\\'re name is {name}')\n",
        "hello('Mano Vishnu')\n",
        "try:\n",
        "    name\n",
        "except NameError:\n",
        "    print('Name varible is not available outside hello function scope')\n",
        "\n",
        "class Person:\n",
        "    species = \"HomeSapines\"\n",
        "    def __init__(self):\n",
        "        pass\n",
        "print(Person.species) # Accessing species using class name\n",
        "Male = Person()\n",
        "print(Male.species) # Accessing species using instance of class"
      ]
    }
  ],
  "metadata": {
    "kernelspec": {
      "display_name": "Python 3",
      "language": "python",
      "name": "python3"
    },
    "language_info": {
      "codemirror_mode": {
        "name": "ipython",
        "version": 3
      },
      "file_extension": ".py",
      "mimetype": "text/x-python",
      "name": "python",
      "nbconvert_exporter": "python",
      "pygments_lexer": "ipython3",
      "version": "3.8.8"
    },
    "colab": {
      "provenance": [],
      "include_colab_link": true
    }
  },
  "nbformat": 4,
  "nbformat_minor": 5
}