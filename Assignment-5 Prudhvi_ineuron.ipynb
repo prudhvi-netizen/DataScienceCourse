{
 "cells": [
  {
   "cell_type": "code",
   "execution_count": null,
   "id": "b7755b6c",
   "metadata": {},
   "outputs": [],
   "source": [
    "1. What does an empty dictionary&#39;s code look like?"
   ]
  },
  {
   "cell_type": "code",
   "execution_count": null,
   "id": "4c96ba25",
   "metadata": {},
   "outputs": [],
   "source": [
    "An empty dictionary is often represented by two empty curly brackets\n",
    "d = {} or d = dict()"
   ]
  },
  {
   "cell_type": "code",
   "execution_count": null,
   "id": "02819b7d",
   "metadata": {},
   "outputs": [],
   "source": [
    "2.what is the value of dictionary value with key 'foo' and the value 42 ?¶"
   ]
  },
  {
   "cell_type": "code",
   "execution_count": 2,
   "id": "4889a568",
   "metadata": {},
   "outputs": [
    {
     "data": {
      "text/plain": [
       "{'foo': 42}"
      ]
     },
     "execution_count": 2,
     "metadata": {},
     "output_type": "execute_result"
    }
   ],
   "source": [
    "{'foo':42}"
   ]
  },
  {
   "cell_type": "code",
   "execution_count": null,
   "id": "9b5a3827",
   "metadata": {},
   "outputs": [],
   "source": [
    "3. What is the most significant distinction between a dictionary and a list?"
   ]
  },
  {
   "cell_type": "code",
   "execution_count": null,
   "id": "b33e26af",
   "metadata": {},
   "outputs": [],
   "source": [
    " Dictionaries are represented by {} where as listed are represented by []\n",
    "The Items stored in a dictionary are Unordered , while the items in a list are ordered"
   ]
  },
  {
   "cell_type": "code",
   "execution_count": null,
   "id": "a37bab4b",
   "metadata": {},
   "outputs": [],
   "source": [
    "4.What happens if you try to access spam ['foo'] if spam is {'bar':100} ?"
   ]
  },
  {
   "cell_type": "code",
   "execution_count": null,
   "id": "b1e31108",
   "metadata": {},
   "outputs": [],
   "source": [
    "we will get a keyError KeyError: 'foo'"
   ]
  },
  {
   "cell_type": "code",
   "execution_count": null,
   "id": "6bf01b14",
   "metadata": {},
   "outputs": [],
   "source": [
    "5.if a dictionary is stored in spam,what is the difference between the expressions 'cat' in spam and 'cat' in spam.keys() ?"
   ]
  },
  {
   "cell_type": "code",
   "execution_count": null,
   "id": "212f6935",
   "metadata": {},
   "outputs": [],
   "source": [
    "There is no difference . The operator checks whether a value exits as a key in the dictionary or not"
   ]
  },
  {
   "cell_type": "code",
   "execution_count": null,
   "id": "4286a492",
   "metadata": {},
   "outputs": [],
   "source": [
    "6.if a dictionary is stored in spam,what is the difference between the expressions 'cat' in spam and 'cat' in spam.values() ?"
   ]
  },
  {
   "cell_type": "code",
   "execution_count": null,
   "id": "7408b877",
   "metadata": {},
   "outputs": [],
   "source": [
    "'cat' in spam checks whether there is a 'cat' key in the dictionary, while 'cat' in spam.values() checks whether there is a value 'cat' for one of the keys in spam."
   ]
  },
  {
   "cell_type": "code",
   "execution_count": null,
   "id": "3c2416dc",
   "metadata": {},
   "outputs": [],
   "source": [
    "7.what is a shortcut for the following code ?\n",
    "if 'color' not in spam:\n",
    "    spam['color'] ='black'"
   ]
  },
  {
   "cell_type": "code",
   "execution_count": null,
   "id": "42d36748",
   "metadata": {},
   "outputs": [],
   "source": [
    "spam.setdefault('color','black')"
   ]
  },
  {
   "cell_type": "code",
   "execution_count": null,
   "id": "927121f0",
   "metadata": {},
   "outputs": [],
   "source": [
    "8.How do you 'pretty print' dictionary values using which modules and function ?"
   ]
  },
  {
   "cell_type": "code",
   "execution_count": 3,
   "id": "3c705c0e",
   "metadata": {},
   "outputs": [
    {
     "name": "stdout",
     "output_type": "stream",
     "text": [
      "Printing using print() function\n",
      " [{'Name': 'Prudhvi', 'Age': '23', 'Residence': {'Country': 'India', 'City': 'Chennai'}}]\n",
      "----------------------------------------------------------------------\n",
      "Printing using pprint() funciton\n",
      "[{'Age': '23',\n",
      "  'Name': 'Prudhvi',\n",
      "  'Residence': {'City': 'Chennai', 'Country': 'India'}}]\n",
      "----------------------------------------------------------------------\n",
      "Printing using dumps() method\n",
      " [\n",
      "    {\n",
      "        \"Name\": \"Prudhvi\",\n",
      "        \"Age\": \"23\",\n",
      "        \"Residence\": {\n",
      "            \"Country\": \"India\",\n",
      "            \"City\": \"Chennai\"\n",
      "        }\n",
      "    }\n",
      "]\n",
      "----------------------------------------------------------------------\n",
      "Printing using dump() method\n",
      " - Age: '23'\n",
      "  Name: Prudhvi\n",
      "  Residence:\n",
      "    City: Chennai\n",
      "    Country: India\n",
      "\n"
     ]
    }
   ],
   "source": [
    "ndict = [\n",
    "  {'Name': 'Prudhvi', 'Age': '23', 'Residence': {'Country':'India', 'City': 'Chennai'}},\n",
    "]\n",
    "\n",
    "print('Printing using print() function\\n',ndict)\n",
    "print('-'*70)\n",
    "import pprint\n",
    "print('Printing using pprint() funciton')\n",
    "pprint.pprint(ndict)\n",
    "print('-'*70)\n",
    "import json\n",
    "dump = json.dumps(ndict, indent=4)\n",
    "print('Printing using dumps() method\\n', dump)\n",
    "print('-'*70)\n",
    "import yaml\n",
    "dump = yaml.dump(ndict)\n",
    "print('Printing using dump() method\\n', dump)\n"
   ]
  },
  {
   "cell_type": "code",
   "execution_count": null,
   "id": "cbc18704",
   "metadata": {},
   "outputs": [],
   "source": []
  }
 ],
 "metadata": {
  "kernelspec": {
   "display_name": "Python 3 (ipykernel)",
   "language": "python",
   "name": "python3"
  },
  "language_info": {
   "codemirror_mode": {
    "name": "ipython",
    "version": 3
   },
   "file_extension": ".py",
   "mimetype": "text/x-python",
   "name": "python",
   "nbconvert_exporter": "python",
   "pygments_lexer": "ipython3",
   "version": "3.9.12"
  }
 },
 "nbformat": 4,
 "nbformat_minor": 5
}
