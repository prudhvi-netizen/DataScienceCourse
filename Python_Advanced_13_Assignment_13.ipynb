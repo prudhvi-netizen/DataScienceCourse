{
  "cells": [
    {
      "cell_type": "markdown",
      "metadata": {
        "id": "view-in-github",
        "colab_type": "text"
      },
      "source": [
        "<a href=\"https://colab.research.google.com/github/prudhvi-netizen/DataScienceCourse/blob/main/Python_Advanced_13_Assignment_13.ipynb\" target=\"_parent\"><img src=\"https://colab.research.google.com/assets/colab-badge.svg\" alt=\"Open In Colab\"/></a>"
      ]
    },
    {
      "cell_type": "markdown",
      "id": "e51b77c7",
      "metadata": {
        "id": "e51b77c7"
      },
      "source": [
        "# Assignment 13 Solutions"
      ]
    },
    {
      "cell_type": "markdown",
      "id": "dfee8ef3",
      "metadata": {
        "id": "dfee8ef3"
      },
      "source": [
        "#### Q1. Can you create a programme or function that employs both positive and negative indexing? Is there any repercussion if you do so?"
      ]
    },
    {
      "cell_type": "code",
      "execution_count": null,
      "id": "900d1a45",
      "metadata": {
        "id": "900d1a45",
        "outputId": "6d645576-05b6-49c4-8998-1521c6b4d16a"
      },
      "outputs": [
        {
          "name": "stdout",
          "output_type": "stream",
          "text": [
            "Positive Indexing -> 6\n",
            "Negative Indexing -> 10\n"
          ]
        }
      ],
      "source": [
        "my_list = [1,2,3,4,5,6,6,7,8,9,10]\n",
        "def bi_index(in_list,position):\n",
        "    return in_list[position]\n",
        "print('Positive Indexing ->',bi_index(my_list,5))\n",
        "print('Negative Indexing ->',bi_index(my_list,-1))"
      ]
    },
    {
      "cell_type": "markdown",
      "id": "12df6e66",
      "metadata": {
        "id": "12df6e66"
      },
      "source": [
        "#### Q2. What is the most effective way of starting with 1,000 elements in a Python list? Assume that all elements should be set to the same value.\n"
      ]
    },
    {
      "cell_type": "code",
      "execution_count": null,
      "id": "4c491202",
      "metadata": {
        "id": "4c491202",
        "outputId": "b3b83418-2862-495c-eb94-7a36d30c620a"
      },
      "outputs": [
        {
          "name": "stdout",
          "output_type": "stream",
          "text": [
            "[1, 1, 1, 1, 1, 1, 1, 1, 1, 1, 1, 1, 1, 1, 1, 1, 1, 1, 1, 1, 1, 1, 1, 1, 1, 1, 1, 1, 1, 1, 1, 1, 1, 1, 1, 1, 1, 1, 1, 1, 1, 1, 1, 1, 1, 1, 1, 1, 1, 1, 1, 1, 1, 1, 1, 1, 1, 1, 1, 1, 1, 1, 1, 1, 1, 1, 1, 1, 1, 1, 1, 1, 1, 1, 1, 1, 1, 1, 1, 1, 1, 1, 1, 1, 1, 1, 1, 1, 1, 1, 1, 1, 1, 1, 1, 1, 1, 1, 1, 1, 1, 1, 1, 1, 1, 1, 1, 1, 1, 1, 1, 1, 1, 1, 1, 1, 1, 1, 1, 1, 1, 1, 1, 1, 1, 1, 1, 1, 1, 1, 1, 1, 1, 1, 1, 1, 1, 1, 1, 1, 1, 1, 1, 1, 1, 1, 1, 1, 1, 1, 1, 1, 1, 1, 1, 1, 1, 1, 1, 1, 1, 1, 1, 1, 1, 1, 1, 1, 1, 1, 1, 1, 1, 1, 1, 1, 1, 1, 1, 1, 1, 1, 1, 1, 1, 1, 1, 1, 1, 1, 1, 1, 1, 1, 1, 1, 1, 1, 1, 1, 1, 1, 1, 1, 1, 1, 1, 1, 1, 1, 1, 1, 1, 1, 1, 1, 1, 1, 1, 1, 1, 1, 1, 1, 1, 1, 1, 1, 1, 1, 1, 1, 1, 1, 1, 1, 1, 1, 1, 1, 1, 1, 1, 1, 1, 1, 1, 1, 1, 1, 1, 1, 1, 1, 1, 1, 1, 1, 1, 1, 1, 1, 1, 1, 1, 1, 1, 1, 1, 1, 1, 1, 1, 1, 1, 1, 1, 1, 1, 1, 1, 1, 1, 1, 1, 1, 1, 1, 1, 1, 1, 1, 1, 1, 1, 1, 1, 1, 1, 1, 1, 1, 1, 1, 1, 1, 1, 1, 1, 1, 1, 1, 1, 1, 1, 1, 1, 1, 1, 1, 1, 1, 1, 1, 1, 1, 1, 1, 1, 1, 1, 1, 1, 1, 1, 1, 1, 1, 1, 1, 1, 1, 1, 1, 1, 1, 1, 1, 1, 1, 1, 1, 1, 1, 1, 1, 1, 1, 1, 1, 1, 1, 1, 1, 1, 1, 1, 1, 1, 1, 1, 1, 1, 1, 1, 1, 1, 1, 1, 1, 1, 1, 1, 1, 1, 1, 1, 1, 1, 1, 1, 1, 1, 1, 1, 1, 1, 1, 1, 1, 1, 1, 1, 1, 1, 1, 1, 1, 1, 1, 1, 1, 1, 1, 1, 1, 1, 1, 1, 1, 1, 1, 1, 1, 1, 1, 1, 1, 1, 1, 1, 1, 1, 1, 1, 1, 1, 1, 1, 1, 1, 1, 1, 1, 1, 1, 1, 1, 1, 1, 1, 1, 1, 1, 1, 1, 1, 1, 1, 1, 1, 1, 1, 1, 1, 1, 1, 1, 1, 1, 1, 1, 1, 1, 1, 1, 1, 1, 1, 1, 1, 1, 1, 1, 1, 1, 1, 1, 1, 1, 1, 1, 1, 1, 1, 1, 1, 1, 1, 1, 1, 1, 1, 1, 1, 1, 1, 1, 1, 1, 1, 1, 1, 1, 1, 1, 1, 1, 1, 1, 1, 1, 1, 1, 1, 1, 1, 1, 1, 1, 1, 1, 1, 1, 1, 1, 1, 1, 1, 1, 1, 1, 1, 1, 1, 1, 1, 1, 1, 1, 1, 1, 1, 1, 1, 1, 1, 1, 1, 1, 1, 1, 1, 1, 1, 1, 1, 1, 1, 1, 1, 1, 1, 1, 1, 1, 1, 1, 1, 1, 1, 1, 1, 1, 1, 1, 1, 1, 1, 1, 1, 1, 1, 1, 1, 1, 1, 1, 1, 1, 1, 1, 1, 1, 1, 1, 1, 1, 1, 1, 1, 1, 1, 1, 1, 1, 1, 1, 1, 1, 1, 1, 1, 1, 1, 1, 1, 1, 1, 1, 1, 1, 1, 1, 1, 1, 1, 1, 1, 1, 1, 1, 1, 1, 1, 1, 1, 1, 1, 1, 1, 1, 1, 1, 1, 1, 1, 1, 1, 1, 1, 1, 1, 1, 1, 1, 1, 1, 1, 1, 1, 1, 1, 1, 1, 1, 1, 1, 1, 1, 1, 1, 1, 1, 1, 1, 1, 1, 1, 1, 1, 1, 1, 1, 1, 1, 1, 1, 1, 1, 1, 1, 1, 1, 1, 1, 1, 1, 1, 1, 1, 1, 1, 1, 1, 1, 1, 1, 1, 1, 1, 1, 1, 1, 1, 1, 1, 1, 1, 1, 1, 1, 1, 1, 1, 1, 1, 1, 1, 1, 1, 1, 1, 1, 1, 1, 1, 1, 1, 1, 1, 1, 1, 1, 1, 1, 1, 1, 1, 1, 1, 1, 1, 1, 1, 1, 1, 1, 1, 1, 1, 1, 1, 1, 1, 1, 1, 1, 1, 1, 1, 1, 1, 1, 1, 1, 1, 1, 1, 1, 1, 1, 1, 1, 1, 1, 1, 1, 1, 1, 1, 1, 1, 1, 1, 1, 1, 1, 1, 1, 1, 1, 1, 1, 1, 1, 1, 1, 1, 1, 1, 1, 1, 1, 1, 1, 1, 1, 1, 1, 1, 1, 1, 1, 1, 1, 1, 1, 1, 1, 1, 1, 1, 1, 1, 1, 1, 1, 1, 1, 1, 1, 1, 1, 1, 1, 1, 1, 1, 1, 1, 1, 1, 1, 1, 1, 1, 1, 1, 1, 1, 1, 1, 1, 1, 1, 1, 1, 1, 1, 1, 1, 1, 1, 1, 1, 1, 1, 1, 1, 1, 1, 1, 1, 1, 1, 1, 1, 1, 1, 1, 1, 1, 1, 1, 1, 1, 1, 1, 1, 1, 1, 1, 1, 1, 1, 1, 1, 1, 1, 1, 1, 1, 1, 1, 1, 1, 1, 1, 1, 1, 1, 1, 1, 1, 1, 1, 1, 1, 1, 1, 1, 1, 1, 1, 1, 1, 1, 1, 1, 1, 1, 1, 1, 1, 1, 1, 1, 1, 1, 1, 1, 1, 1, 1, 1, 1, 1, 1, 1, 1, 1, 1, 1, 1, 1, 1, 1, 1, 1, 1, 1, 1, 1, 1, 1, 1, 1, 1, 1, 1, 1, 1, 1, 1, 1, 1, 1, 1, 1, 1]\n"
          ]
        }
      ],
      "source": [
        "start_list = [1 for x in range(1001)] # Quick Way to Create a List Using List Comprehension\n",
        "print(start_list)"
      ]
    },
    {
      "cell_type": "markdown",
      "id": "6351fa74",
      "metadata": {
        "id": "6351fa74"
      },
      "source": [
        "#### Q3. How do you slice a list to get any other part while missing the rest? (For example, suppose you want to make a new list with the elements first, third, fifth, seventh, and so on.)"
      ]
    },
    {
      "cell_type": "code",
      "execution_count": null,
      "id": "8086d0ef",
      "metadata": {
        "id": "8086d0ef",
        "outputId": "48f76e88-1cf7-4bb3-c4d6-56be292b8903"
      },
      "outputs": [
        {
          "name": "stdout",
          "output_type": "stream",
          "text": [
            "my_list -> [1, 2, 3, 4, 5, 6, 7, 8, 9, 10, 11, 12, 13, 14]\n",
            "sliced_list -> [1, 3, 5, 7, 9, 11, 13]\n"
          ]
        }
      ],
      "source": [
        "my_list = [x for x in range(1,15)]\n",
        "print(f'my_list -> {my_list}')\n",
        "sliced_list = my_list[::2]\n",
        "print(f'sliced_list -> {sliced_list}')"
      ]
    },
    {
      "cell_type": "markdown",
      "id": "250146a1",
      "metadata": {
        "id": "250146a1"
      },
      "source": [
        "#### Q4. Explain the distinctions between indexing and slicing ?\n",
        "**Ans:**  Indexing is used when we have to work on index level. While slicing are used over a range of items."
      ]
    },
    {
      "cell_type": "code",
      "execution_count": null,
      "id": "f8d34711",
      "metadata": {
        "id": "f8d34711",
        "outputId": "facc1e8b-5e04-4245-c078-a8df9101a7e5"
      },
      "outputs": [
        {
          "name": "stdout",
          "output_type": "stream",
          "text": [
            "my_list -> [1, 2, 3, 4, 5, 6, 7, 8, 9, 10, 11, 12, 13, 14]\n",
            "Example of indexing -> (2, 6)\n",
            "Example of slicing -> [2, 3, 4, 5]\n"
          ]
        }
      ],
      "source": [
        "my_list = [x for x in range(1,15)]\n",
        "print(f'my_list -> {my_list}')\n",
        "print(f'Example of indexing -> {my_list[1], my_list[5]}')\n",
        "print(f'Example of slicing -> {my_list[1:5]}')"
      ]
    },
    {
      "cell_type": "markdown",
      "id": "a4d16dbf",
      "metadata": {
        "id": "a4d16dbf"
      },
      "source": [
        "#### Q5. What happens if one of the slicing expression's indexes is out of range?\n",
        "**Ans:** If start index is out of range then it will return empty entity."
      ]
    },
    {
      "cell_type": "code",
      "execution_count": null,
      "id": "5f827cf4",
      "metadata": {
        "id": "5f827cf4",
        "outputId": "c2973899-94e0-4646-b26d-731fba9ea6c4"
      },
      "outputs": [
        {
          "name": "stdout",
          "output_type": "stream",
          "text": [
            "my_list -> [1, 2, 3, 4, 5, 6, 7, 8, 9, 10, 11, 12, 13, 14]\n",
            "Case #1 -> []\n",
            "Case #2 -> [11, 12, 13, 14]\n"
          ]
        }
      ],
      "source": [
        "my_list = [x for x in range(1,15)]\n",
        "my_list = [x for x in range(1,15)]\n",
        "print(f'my_list -> {my_list}')\n",
        "print(f'Case #1 -> {my_list[20:]}')\n",
        "print(f'Case #2 -> {my_list[10:100]}')"
      ]
    },
    {
      "cell_type": "markdown",
      "id": "33dbda88",
      "metadata": {
        "id": "33dbda88"
      },
      "source": [
        "#### Q6. If you pass a list to a function, and if you want the function to be able to change the values of the list—so that the list is different after the function returns—what action should you do?\n",
        "**Ans:** Always use **`return`** statement, if we want the see the changes in the input list."
      ]
    },
    {
      "cell_type": "code",
      "execution_count": null,
      "id": "97340aef",
      "metadata": {
        "id": "97340aef",
        "outputId": "56073e7e-f85e-4da7-da57-45a6cbc53cc1"
      },
      "outputs": [
        {
          "name": "stdout",
          "output_type": "stream",
          "text": [
            "[1, 2, 3, 4, 5, 6, 200]\n"
          ]
        }
      ],
      "source": [
        "my_list = [1,2,3,4,5,6]\n",
        "def modify_list(in_list):\n",
        "    in_list.append(200)\n",
        "    return in_list\n",
        "print(modify_list(my_list))"
      ]
    },
    {
      "cell_type": "markdown",
      "id": "6b1caf1f",
      "metadata": {
        "id": "6b1caf1f"
      },
      "source": [
        "#### Q7. What is the concept of an unbalanced matrix?\n",
        "**Ans:** In Unbalanced Matrix number of rows is not same as number of columns."
      ]
    },
    {
      "cell_type": "markdown",
      "id": "95862b0d",
      "metadata": {
        "id": "95862b0d"
      },
      "source": [
        "#### Q8. Why is it necessary to use either list comprehension or a loop to create arbitrarily large matrices?\n",
        "**Ans:**  List comprehension or a Loop helps creation of large matrices easy. it also helps to implemeent and avoid manual errors. it also makes reading code easy. Also lot of time for manual feeding is reduced."
      ]
    }
  ],
  "metadata": {
    "kernelspec": {
      "display_name": "Python 3",
      "language": "python",
      "name": "python3"
    },
    "language_info": {
      "codemirror_mode": {
        "name": "ipython",
        "version": 3
      },
      "file_extension": ".py",
      "mimetype": "text/x-python",
      "name": "python",
      "nbconvert_exporter": "python",
      "pygments_lexer": "ipython3",
      "version": "3.6.13"
    },
    "colab": {
      "provenance": [],
      "include_colab_link": true
    }
  },
  "nbformat": 4,
  "nbformat_minor": 5
}